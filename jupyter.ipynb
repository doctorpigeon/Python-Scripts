{
 "cells": [
  {
   "cell_type": "code",
   "execution_count": 11,
   "metadata": {},
   "outputs": [
    {
     "name": "stdout",
     "output_type": "stream",
     "text": [
      "현재 부산 날씨는 31.8도 입니다.\n"
     ]
    }
   ],
   "source": [
    "import requests\n",
    "from bs4 import BeautifulSoup\n",
    "\n",
    "town = input(\"현재 날씨가 궁금한 동네의 이름을 입력해주세요.\")\n",
    "town_weather = town+\" 날씨\"\n",
    "\n",
    "url = 'https://search.naver.com/search.naver?ie=utf8&query=' + town_weather\n",
    "\n",
    "html = requests.get(url).text\n",
    "soup = BeautifulSoup(html,'html.parser')\n",
    "print(f\"현재 {town} 날씨는 {soup.find('div', class_='temperature_text').find('strong').text.replace('현재 온도', '')[:-1]}도 입니다.\")"
   ]
  },
  {
   "cell_type": "code",
   "execution_count": 2,
   "metadata": {},
   "outputs": [
    {
     "name": "stdout",
     "output_type": "stream",
     "text": [
      "    오늘 7.02.      오전 0%  맑음    오후 10%  맑음     최저기온24° / 최고기온30°    \n",
      "    내일 7.03.      20%  구름많음    60%  흐리고 가끔 비     최저기온24° / 최고기온29°    \n",
      "    월 7.04.      60%  흐리고 비    60%  흐리고 비     최저기온24° / 최고기온29°    \n",
      "    화 7.05.      60%  흐리고 비    60%  흐리고 비     최저기온24° / 최고기온29°    \n",
      "    수 7.06.      60%  흐리고 비    30%  흐림     최저기온24° / 최고기온29°    \n",
      "    목 7.07.      30%  흐림    30%  흐림     최저기온24° / 최고기온29°    \n",
      "    금 7.08.      30%  흐림    30%  구름많음     최저기온25° / 최고기온30°    \n",
      "    토 7.09.      30%  구름많음    30%  구름많음     최저기온25° / 최고기온30°    \n",
      "    일 7.10.      30%  구름많음    30%  구름많음     최저기온25° / 최고기온30°    \n",
      "    월 7.11.      30%  구름많음    30%  구름많음     최저기온25° / 최고기온28°    \n"
     ]
    }
   ],
   "source": [
    "import requests\n",
    "from bs4 import BeautifulSoup\n",
    "\n",
    "town = input(\"주간날씨 가 궁금한 동네의 이름을 입력해주세요.\")\n",
    "town_weather = town+\" 날씨\"\n",
    "\n",
    "url = 'https://search.naver.com/search.naver?ie=utf8&query=' + town_weather\n",
    "\n",
    "html = requests.get(url).text\n",
    "soup = BeautifulSoup(html,'html.parser')\n",
    "temp = soup.find_all('li', class_=\"week_item\")\n",
    "for i in temp:\n",
    "    print(i.text)"
   ]
  },
  {
   "cell_type": "code",
   "execution_count": null,
   "metadata": {},
   "outputs": [],
   "source": []
  }
 ],
 "metadata": {
  "kernelspec": {
   "display_name": "Python 3.8.8 ('base')",
   "language": "python",
   "name": "python3"
  },
  "language_info": {
   "codemirror_mode": {
    "name": "ipython",
    "version": 3
   },
   "file_extension": ".py",
   "mimetype": "text/x-python",
   "name": "python",
   "nbconvert_exporter": "python",
   "pygments_lexer": "ipython3",
   "version": "3.8.8"
  },
  "orig_nbformat": 4,
  "vscode": {
   "interpreter": {
    "hash": "96f9a3a7c3e6bcae9121203804756b033e47866cbd904f0aabd81fdde487b329"
   }
  }
 },
 "nbformat": 4,
 "nbformat_minor": 2
}
